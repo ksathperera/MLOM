{
  "nbformat": 4,
  "nbformat_minor": 0,
  "metadata": {
    "colab": {
      "provenance": [],
      "mount_file_id": "1L-QjC4W9yOrBsyVHwX6PVET9RXfJbRnQ",
      "authorship_tag": "ABX9TyNhZ9P9QhIjwshBx3EN7CNq",
      "include_colab_link": true
    },
    "kernelspec": {
      "name": "python3",
      "display_name": "Python 3"
    },
    "language_info": {
      "name": "python"
    }
  },
  "cells": [
    {
      "cell_type": "markdown",
      "metadata": {
        "id": "view-in-github",
        "colab_type": "text"
      },
      "source": [
        "<a href=\"https://colab.research.google.com/github/ksathperera/MLOM/blob/main/Lab04_CNN2D_Dogs%26Cats.ipynb\" target=\"_parent\"><img src=\"https://colab.research.google.com/assets/colab-badge.svg\" alt=\"Open In Colab\"/></a>"
      ]
    },
    {
      "cell_type": "code",
      "execution_count": 1,
      "metadata": {
        "colab": {
          "base_uri": "https://localhost:8080/"
        },
        "id": "wX6ONXdcheBb",
        "outputId": "134d47a8-ee8e-4196-dd80-806b5a90667b"
      },
      "outputs": [
        {
          "output_type": "stream",
          "name": "stdout",
          "text": [
            "Drive already mounted at /content/drive; to attempt to forcibly remount, call drive.mount(\"/content/drive\", force_remount=True).\n"
          ]
        }
      ],
      "source": [
        "from google.colab import drive\n",
        "drive.mount('/content/drive')"
      ]
    },
    {
      "cell_type": "code",
      "source": [
        "train_path='/content/drive/My Drive/Cat&Dog Dataset/Training_data'\n",
        "test_path='/content/drive/My Drive/Cat&Dog Dataset/Testing_data'"
      ],
      "metadata": {
        "id": "rC_SwUxfikhS"
      },
      "execution_count": 2,
      "outputs": []
    },
    {
      "cell_type": "code",
      "source": [
        "import tensorflow as tf\n",
        "from tensorflow import keras"
      ],
      "metadata": {
        "id": "P6cs3ciRke_d"
      },
      "execution_count": 3,
      "outputs": []
    },
    {
      "cell_type": "code",
      "source": [
        "#define the model\n",
        "model = tf.keras.models.Sequential([\n",
        "    #Note the input shape is the desired size of the image 300*300 with 3 bytes color\n",
        "    #This is the first convolution\n",
        "    tf.keras.layers.Conv2D(filters=16, kernel_size=3, activation='relu', input_shape=(300,300,3)),\n",
        "    tf.keras.layers.MaxPooling2D(2, 2),\n",
        "\n",
        "    #The second convolution\n",
        "    tf.keras.layers.Conv2D(filters=16, kernel_size=3, activation='relu'),\n",
        "    tf.keras.layers.MaxPooling2D(pool_size=2),\n",
        "\n",
        "    #The third convolution\n",
        "    tf.keras.layers.Conv2D(filters=32, kernel_size=3, activation='relu'),\n",
        "    tf.keras.layers.MaxPooling2D(pool_size=2),\n",
        "\n",
        "    #The fourth convolution\n",
        "    tf.keras.layers.Conv2D(filters=64, kernel_size=3, activation='relu'),\n",
        "    tf.keras.layers.MaxPooling2D(pool_size=2),\n",
        "\n",
        "    #The fifth convolution\n",
        "    tf.keras.layers.Conv2D(filters=64, kernel_size=3, activation='relu'),\n",
        "    tf.keras.layers.MaxPooling2D(pool_size=2),\n",
        "\n",
        "    #flatten the results to feed into a DNN\n",
        "    tf.keras.layers.Flatten(),\n",
        "\n",
        "    #512 neuron hidden layer\n",
        "    tf.keras.layers.Dense(512, activation='relu'),\n",
        "\n",
        "    #only 1 output neuron. It will contain a value from\n",
        "    tf.keras.layers.Dense(1, activation='sigmoid'),\n",
        "\n",
        "])"
      ],
      "metadata": {
        "id": "3dMCoOckkkgo"
      },
      "execution_count": 6,
      "outputs": []
    },
    {
      "cell_type": "code",
      "source": [
        "#image preprocessing\n",
        "from tensorflow.keras.preprocessing.image import ImageDataGenerator\n",
        "\n",
        "#all train images will be rescaled by 1./255\n",
        "train_datagen = ImageDataGenerator(rescale = 1./255)\n",
        "\n",
        "#flow tarining images in batches of 128 using train_datagen generator\n",
        "train_generator = train_datagen.flow_from_directory(train_path,\n",
        "                                                    target_size = (300,300),\n",
        "                                                    batch_size = 32,\n",
        "                                                    class_mode = 'binary')\n",
        "\n",
        "#all test images will be rescaled by 1./255\n",
        "test_datagen = ImageDataGenerator(rescale = 1./255)\n",
        "\n",
        "#apply predefined specification to test dataset\n",
        "test_set = test_datagen.flow_from_directory(test_path,\n",
        "                                            target_size = (300, 300),\n",
        "                                            batch_size = 32,\n",
        "                                            class_mode = 'binary')"
      ],
      "metadata": {
        "colab": {
          "base_uri": "https://localhost:8080/"
        },
        "id": "YsGC9n7KpXgs",
        "outputId": "64652498-033f-4a4b-ee60-b3a1e3f86520"
      },
      "execution_count": 9,
      "outputs": [
        {
          "output_type": "stream",
          "name": "stdout",
          "text": [
            "Found 633 images belonging to 2 classes.\n",
            "Found 200 images belonging to 2 classes.\n"
          ]
        }
      ]
    },
    {
      "cell_type": "code",
      "source": [
        "#complie the model\n",
        "optimizer = tf.keras.optimizers.Adam(learning_rate = 0.001)\n",
        "model.compile(optimizer=optimizer,\n",
        "loss='binary_crossentropy',\n",
        "metrics=['accuracy'])"
      ],
      "metadata": {
        "id": "SyKNAH9gsKIb"
      },
      "execution_count": 10,
      "outputs": []
    },
    {
      "cell_type": "code",
      "source": [
        "#to get sumamry of the model\n",
        "model.summary()"
      ],
      "metadata": {
        "colab": {
          "base_uri": "https://localhost:8080/"
        },
        "id": "b1OIXWPMvqHk",
        "outputId": "ee0da816-3e07-42d2-f5ba-54595c0b60e3"
      },
      "execution_count": 14,
      "outputs": [
        {
          "output_type": "stream",
          "name": "stdout",
          "text": [
            "Model: \"sequential_2\"\n",
            "_________________________________________________________________\n",
            " Layer (type)                Output Shape              Param #   \n",
            "=================================================================\n",
            " conv2d_10 (Conv2D)          (None, 298, 298, 16)      448       \n",
            "                                                                 \n",
            " max_pooling2d_10 (MaxPooli  (None, 149, 149, 16)      0         \n",
            " ng2D)                                                           \n",
            "                                                                 \n",
            " conv2d_11 (Conv2D)          (None, 147, 147, 16)      2320      \n",
            "                                                                 \n",
            " max_pooling2d_11 (MaxPooli  (None, 73, 73, 16)        0         \n",
            " ng2D)                                                           \n",
            "                                                                 \n",
            " conv2d_12 (Conv2D)          (None, 71, 71, 32)        4640      \n",
            "                                                                 \n",
            " max_pooling2d_12 (MaxPooli  (None, 35, 35, 32)        0         \n",
            " ng2D)                                                           \n",
            "                                                                 \n",
            " conv2d_13 (Conv2D)          (None, 33, 33, 64)        18496     \n",
            "                                                                 \n",
            " max_pooling2d_13 (MaxPooli  (None, 16, 16, 64)        0         \n",
            " ng2D)                                                           \n",
            "                                                                 \n",
            " conv2d_14 (Conv2D)          (None, 14, 14, 64)        36928     \n",
            "                                                                 \n",
            " max_pooling2d_14 (MaxPooli  (None, 7, 7, 64)          0         \n",
            " ng2D)                                                           \n",
            "                                                                 \n",
            " flatten_2 (Flatten)         (None, 3136)              0         \n",
            "                                                                 \n",
            " dense_4 (Dense)             (None, 512)               1606144   \n",
            "                                                                 \n",
            " dense_5 (Dense)             (None, 1)                 513       \n",
            "                                                                 \n",
            "=================================================================\n",
            "Total params: 1669489 (6.37 MB)\n",
            "Trainable params: 1669489 (6.37 MB)\n",
            "Non-trainable params: 0 (0.00 Byte)\n",
            "_________________________________________________________________\n"
          ]
        }
      ]
    },
    {
      "cell_type": "code",
      "source": [
        "#fit the model to train the model\n",
        "history = model.fit(\n",
        "    train_generator,\n",
        "    steps_per_epoch=20,  #no of batch per epochs #633 images / 32 (badge number) = 19.6\n",
        "    epochs=5,\n",
        "    validation_data=test_set,\n",
        "    validation_steps=7  #no of batch size per validation #test 200/32 = 7\n",
        ")"
      ],
      "metadata": {
        "colab": {
          "base_uri": "https://localhost:8080/"
        },
        "id": "50heHi7DukoE",
        "outputId": "840a82f8-f535-4cb6-9f96-640075ec4c69"
      },
      "execution_count": 13,
      "outputs": [
        {
          "output_type": "stream",
          "name": "stdout",
          "text": [
            "Epoch 1/5\n",
            "20/20 [==============================] - 98s 5s/step - loss: 0.6626 - accuracy: 0.6066 - val_loss: 0.6946 - val_accuracy: 0.5000\n",
            "Epoch 2/5\n",
            "20/20 [==============================] - 61s 3s/step - loss: 0.6560 - accuracy: 0.6066 - val_loss: 0.7022 - val_accuracy: 0.5000\n",
            "Epoch 3/5\n",
            "20/20 [==============================] - 54s 3s/step - loss: 0.6333 - accuracy: 0.6114 - val_loss: 0.6992 - val_accuracy: 0.5100\n",
            "Epoch 4/5\n",
            "20/20 [==============================] - 55s 3s/step - loss: 0.6109 - accuracy: 0.6619 - val_loss: 0.6801 - val_accuracy: 0.5500\n",
            "Epoch 5/5\n",
            "20/20 [==============================] - 56s 3s/step - loss: 0.5696 - accuracy: 0.7188 - val_loss: 0.6812 - val_accuracy: 0.5950\n"
          ]
        }
      ]
    },
    {
      "cell_type": "code",
      "source": [
        "#to save weights\n",
        "model.save_weights('first_try.h5')"
      ],
      "metadata": {
        "id": "8wknDuE4vO2n"
      },
      "execution_count": 15,
      "outputs": []
    },
    {
      "cell_type": "code",
      "source": [
        "#plot variation in loss and accuracy\n",
        "import matplotlib.pyplot as plt\n",
        "#plot the loss\n",
        "plt.plot(history.history['loss'], label='train loss')\n",
        "plt.plot(history.history['val_loss'], label='validation loss')\n",
        "plt.legend()\n",
        "plt.show()\n",
        "plt.savefig('LossVal_loss')\n",
        "\n",
        "#plot the accuracy\n",
        "plt.plot(history.history['accuracy'], label='train acc')\n",
        "plt.plot(history.history['val_accuracy'], label='validation acc')\n",
        "plt.legend()\n",
        "plt.show()\n",
        "plt.savefig('AccVal_acc')"
      ],
      "metadata": {
        "colab": {
          "base_uri": "https://localhost:8080/",
          "height": 860
        },
        "id": "b0QNv-q4xXxP",
        "outputId": "09473297-4781-41cc-d87f-71fb4a80a794"
      },
      "execution_count": 16,
      "outputs": [
        {
          "output_type": "display_data",
          "data": {
            "text/plain": [
              "<Figure size 640x480 with 1 Axes>"
            ],
            "image/png": "[encoded data removed]"
          },
          "metadata": {}
        },
        {
          "output_type": "display_data",
          "data": {
            "text/plain": [
              "<Figure size 640x480 with 1 Axes>"
            ],
            "image/png": "[encoded data removed]"
          },
          "metadata": {}
        },
        {
          "output_type": "display_data",
          "data": {
            "text/plain": [
              "<Figure size 640x480 with 0 Axes>"
            ]
          },
          "metadata": {}
        }
      ]
    },
    {
      "cell_type": "code",
      "source": [],
      "metadata": {
        "id": "FuLxV74vyOx3"
      },
      "execution_count": null,
      "outputs": []
    }
  ]
}